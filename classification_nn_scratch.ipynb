{
  "cells": [
    {
      "cell_type": "markdown",
      "metadata": {
        "id": "JoNcD6MTK47J"
      },
      "source": [
        "In this code we will be implementing some components of neural networks in numpy from scratch (all our code will be vectorized; and we don't use any library besides numpy and matplotlib). Base meta classes for the various activations, layers and optimizers are provided; all of our implementations will be classes that inherit from the appropriate base meta class."
      ]
    },
    {
      "cell_type": "markdown",
      "metadata": {
        "id": "m88VVYhOK47L"
      },
      "source": [
        "# Step 1: Fully-connected neural networks\n"
      ]
    },
    {
      "cell_type": "markdown",
      "metadata": {
        "id": "vEGDQMtWK47N"
      },
      "source": [
        "## General comments\n",
        "\n",
        "In this step we will implement all the components we need to construct and train a fully-connected neural network:  the forward and backwards passes for various activations and types of layers, a loss (baked into the SoftMax class), a class to hold the stacked layers together and a couple of optimizers. \n",
        "\n",
        "The forward pass is relatively straightforward: each layer outputs an array that the following layer takes as its input. The backwards pass, on the other hand, is a bit more complicated and to be able to complete it, we need to both have the incoming gradient and the original input to each layer, represented by the variable \"original_input\" in our code. The gradient returned by the backward() call of any given layer is then used as input for the backward() call of the layer immediately preceding it."
      ]
    },
    {
      "cell_type": "code",
      "execution_count": null,
      "metadata": {
        "id": "VbpiEQ2sK47O"
      },
      "outputs": [],
      "source": [
        "import numpy as np\n",
        "import matplotlib.pyplot as plt\n",
        "import abc"
      ]
    },
    {
      "cell_type": "markdown",
      "metadata": {
        "id": "qgIo7cQSK47P"
      },
      "source": [
        "# 1. \n",
        "\n",
        "Implement the forwards and backwards passes for the following activations: a) Sigmoid, $\\sigma(x) = \\frac{1}{1+e^{-x}}$; b) Tanh, tthat returns the tangent hyperbolic function of its input,  $y = tanh(x)$.\n",
        "\n",
        "Note that defining the __ call __ function allows us to avoid calling the forward function directly, i.e. instead of calling ReLU.forward(x), you should call ReLU(x) instead (for example).\n",
        "\n",
        "**Derivative of activation functions**\n",
        "\n",
        "$o = sig(x) ==> \\frac{dO}{dx} = o(1-o) = sig(x)*(1-sig(x))$\n",
        "\n",
        "$o = tanh(x) ==> \\frac{dO}{dx} = 1 - (np.tanh(x)^2)$"
      ]
    },
    {
      "cell_type": "code",
      "execution_count": null,
      "metadata": {
        "id": "UesNCkraK47Q"
      },
      "outputs": [],
      "source": [
        "# Abstract base class for all activation classes\n",
        "class Activations(metaclass=abc.ABCMeta):\n",
        "    @abc.abstractmethod\n",
        "    def forward(self, x):\n",
        "        return\n",
        "\n",
        "    @abc.abstractmethod\n",
        "    def backward(self, grad, original_input):\n",
        "        return\n",
        "\n",
        "\n",
        "class ReLU(Activations):\n",
        "    def forward(self, x):\n",
        "        # return result\n",
        "        return np.maximum(0, x)\n",
        "\n",
        "    def backward(self, grad, original_input):\n",
        "        # this assumes that the original input to this layer has been saved somewhere else\n",
        "        x = original_input\n",
        "        return grad * (x > 0)\n",
        "\n",
        "    def __call__(self, x, mode=None):\n",
        "        return self.forward(x)\n",
        "\n",
        "\n",
        "class Sigmoid(Activations):\n",
        "    def forward(self, x):\n",
        "        return 1 / 1 + np.exp(-x)\n",
        "\n",
        "    def backward(self, grad, original_input):\n",
        "        # o = sig(x) ==> dOdx = o(1-o) = sig(x)*(1-sig(x))\n",
        "        x = original_input\n",
        "        sig = 1 / 1 + np.exp(-x)\n",
        "        return grad * sig * (1 - sig)\n",
        "\n",
        "    def __call__(self, x, mode=None):\n",
        "        return self.forward(x)\n",
        "\n",
        "\n",
        "class Tanh(Activations):\n",
        "    def forward(self, x):\n",
        "        return np.tanh(x)\n",
        "\n",
        "    def backward(self, grad, original_input):\n",
        "        # o = tanh(x) ==> dOdx = (sech(x))^2 = 1 / (cosh(x))^2\n",
        "        x = original_input\n",
        "        return grad * (1 - (np.tanh(x) ** 2))\n",
        "\n",
        "    def __call__(self, x, mode=None):\n",
        "        return self.forward(x)"
      ]
    },
    {
      "cell_type": "markdown",
      "metadata": {
        "id": "rFAamRnAK47S"
      },
      "source": [
        "# 2.\n",
        "\n",
        "Implement an activation (“SoftmaxCrossLoss”) that has two modes of operation: a) if a target, $y_{true}$, is provided then it operates in the same manner as the Pytorch CrossEntropyLoss (https://pytorch.org/docs/stable/generated/torch.nn.CrossEntropyLoss.html) (basically the usual softmax activation plus a cross-entropy loss); b) if no target $y_{true}$ is provided, then the forward pass just returns the softmax of the input (no backwards pass needs to be implemented for this mode): for a vector $\\mathbf{x}=(x_1,x_2, \\cdots, x_n)$, Softmax$(\\mathbf{x})_i = \\frac{e^{x_i}}{\\sum_j e^{x_j}}$ (when using batches this operation should be done for each vector in the batch). \n",
        "\n",
        "While implementing softmax shift our input by using shifted_x = x - np.max(x, axis=1, keepdims=True). This does not affect the result of the softmax operation and improves numerical stability.\n",
        "\n",
        "Note that \"mode\" is included in this class's function calls just to keep a unified interface for use in the fully-connected neural network.\n",
        "\n",
        "$\\mathbf{}$Cross entropy loss = $\\mathbf L(y,p)=-\\frac{1}{N}\\sum_i y_i log(p_i)$\n",
        "\n",
        "$p_i = \\frac{e^{x_i}}{\\sum_j e^{x_j}}$\n",
        "\n",
        "$\\frac{dL}{dx} = \\frac{dL}{dp_i} * \\frac{dp_i}{dx} = p_i - y_i$"
      ]
    },
    {
      "cell_type": "code",
      "execution_count": null,
      "metadata": {
        "id": "ZuM3eJ3tK47U"
      },
      "outputs": [],
      "source": [
        "class SoftMaxCrossLoss(Activations):\n",
        "    def __init__(self):\n",
        "        self.probs = None\n",
        "        self.y = None\n",
        "\n",
        "    def forward(self, x, y=None):\n",
        "\n",
        "        shifted_x = x - np.max(x, axis=1, keepdims=True)\n",
        "\n",
        "        e = np.exp(shifted_x)\n",
        "        probability = e / e.sum()\n",
        "\n",
        "        if y is None:  # y being none should make this return simply a softmax activation: we are in testing mode\n",
        "            return probability\n",
        "        else:  # y is not none, you should return the cross-entropy loss using the softmax activations\n",
        "            self.y = y.T\n",
        "            ll = -np.log(probability+1e-8) * self.y  # zarbe deraye be deraye\n",
        "            # print(\"heeee\", ll.shape[0])\n",
        "            # print(\"heeee\", ll.shape[1])\n",
        "            return np.sum(ll) / (ll.shape[0] * ll.shape[1])  # loss\n",
        "\n",
        "    def backward(self, grad, original_input):\n",
        "\n",
        "        x = original_input\n",
        "        shifted_x = x - np.max(x, axis=1, keepdims=True)\n",
        "\n",
        "        e = np.exp(x)\n",
        "        y_pred = e / e.sum()\n",
        "\n",
        "        soft_grad = y_pred - self.y\n",
        "\n",
        "        return grad * soft_grad\n",
        "\n",
        "    def __call__(self, x, y=None, mode=None):\n",
        "        return self.forward(x, y)"
      ]
    },
    {
      "cell_type": "markdown",
      "metadata": {
        "id": "szVKMj-SK47W"
      },
      "source": [
        "# 3.\n",
        "\n",
        "Implement three layers (with both forward and backwards passes): a) an AffineLayer (with input dimension input_dim and hidden units hidden_dim), whose forward pass returns $Y=Xw^T + b$, where w and b are the weights and bias respectively; b) an Inverted Dropout (https://machinelearning.wtf/terms/inverted-dropout/) layer that keeps weights with probability p; c) a BatchNorm layer.\n",
        "\n",
        "Note that the gradients of the parameters of each layer should be kept inside their respective layers. Dropout and Batchnorm behave different based on whether we are in \"train\" or \"test\" mode.\n",
        "\n",
        "**Affine forward:**\n",
        "\n",
        "$A = w*input+b$\n",
        "\n",
        "**Affine layer backward:**\n",
        "\n",
        "$\\frac{dL}{dw}=(\\frac{dL}{d_{softmax}}\\frac{d{softmax}}{dA})\\frac{dA}{dw} = grad * \\frac{dA}{dw} = \\frac{1}{m} * grad * input^T$\n",
        "\n",
        "*#m is equal to batch size*\n",
        "\n",
        "$\\frac{dL}{db}=(\\frac{dL}{d_{softmax}}\\frac{d{softmax}}{dA})\\frac{dA}{db} = grad * \\frac{dA}{db} = \\frac{1}{m} * np.  sum(grad, axis = 1, keepdim = True)$\n",
        "\n",
        "*#keepdim to prevent array like (n,) and keep 1 in the second dimention (n,1)*\n",
        "\n",
        "**BatchNorm Layer**\n",
        "\n",
        "**Forward**\n",
        "\n",
        "$x_{norm} = \\frac{x - \\frac{1}{m}Σx_i}{\\sqrt{\\frac{1}{m}(x_i-𝜇)^2 + 𝛆}}$ \n",
        "\n",
        "$y = γ * x_{norm}+β$\n",
        "\n",
        "**Backward**\n",
        "\n",
        "$\\frac{dy}{dγ} = x_{norm} * grad$\n",
        "\n",
        "$\\frac{dy}{dγ} = grad$\n",
        "\n",
        "$\\frac{dx_{norm}}{d𝜇} = \\frac{-1}{\\sqrt{δ^2}}$\n",
        "\n",
        "$\\frac{dδ^2}{d𝜇} = -\\frac{2}{m}Σ(x_i-𝜇)$\n",
        "\n",
        "$\\frac{dx_{norm}}{dδ^2}=-0.5Σ(x_i-𝜇)(δ^2)^{-1.5}$\n",
        "\n",
        "$\\frac{d𝜇}{dx} = \\frac{1}{m}$\n",
        "\n",
        "$\\frac{dδ^2}{dx_i}=\\frac{2(x_i-𝜇)}{m}$\n",
        "\n",
        "$\\frac{dy}{dx}=\\frac{dy}{dx_{norm}}\\frac{dx_{nomr}}{dx}+\\frac{dy}{dx_{norm}}\\frac{dx_{nomr}}{d𝜇}\\frac{d𝜇}{dx}+\\frac{dy}{dx_{norm}}\\frac{dx_{nomr}}{dδ^2}\\frac{dδ^2}{dx}$\n",
        "\n",
        "**Dropout**\n",
        "\n",
        "**Forward**\n",
        "\n",
        "$y=\\frac{x * mask}{keep_p}$\n",
        "\n",
        "*# mask = a matrix that indicate which neuron should be on and which one should be off with the keep_probability*\n",
        "\n",
        "**Backward**\n",
        "\n",
        "$\\frac{dy}{dx} = grad * \\frac{mask}{keep_p}$"
      ]
    },
    {
      "cell_type": "code",
      "execution_count": null,
      "metadata": {
        "id": "KkT82JRYK47X"
      },
      "outputs": [],
      "source": [
        "class Layers(metaclass=abc.ABCMeta):\n",
        "    @abc.abstractmethod\n",
        "    def forward(self, x):\n",
        "        return\n",
        "\n",
        "    @abc.abstractmethod\n",
        "    def backward(self, grad, original_input):\n",
        "        return\n",
        "\n",
        "\n",
        "class AffineLayer(Layers):\n",
        "    def __init__(self, input_dim, hidden_units):\n",
        "        ran = np.sqrt(1 / input_dim)\n",
        "\n",
        "        # Initializing the weights and bias, in that order\n",
        "        self.parameters = [np.random.uniform(-ran, ran, (hidden_units, input_dim)),  # param[0]=w, param[1]=b\n",
        "                           np.random.uniform(-ran, ran, hidden_units).reshape((hidden_units, 1))]\n",
        "\n",
        "        # self.parameters = [np.ones((hidden_units, input_dim)) * 0.01,  # param[0]=w, param[1]=b\n",
        "        #                    np.ones((hidden_units, 1)) * 0.01]\n",
        "\n",
        "        self.grads = [np.zeros_like(self.parameters[0]), np.zeros_like(self.parameters[1])]  # grad[0]=dw,  grad[1]=db\n",
        "\n",
        "        self.hist_momentum = [np.zeros((hidden_units, input_dim)), np.zeros((hidden_units, 1))]\n",
        "\n",
        "        self.hist_rms = [np.zeros((hidden_units, input_dim)), np.zeros((hidden_units, 1))]\n",
        "\n",
        "    def forward(self, x):\n",
        "        # x = a_l-1\n",
        "        return np.dot(self.parameters[0], x) + self.parameters[1]\n",
        "\n",
        "    def backward(self, grad, original_input):\n",
        "        m = grad.shape[1]  # number of sample\n",
        "\n",
        "        self.grads[0] = (1 / m) * np.dot(grad, original_input.T)  # dw\n",
        "        self.grads[1] = (1 / m) * np.sum(grad, axis=1, keepdims=True)  # db\n",
        "\n",
        "        # return gradient with respect to the original input to this layer\n",
        "        grad_x = np.dot(np.transpose(self.parameters[0]), grad)\n",
        "        return grad_x\n",
        "\n",
        "    def __call__(self, x, mode=None):\n",
        "        return self.forward(x)\n",
        "\n",
        "\n",
        "class BatchNorm(Layers):\n",
        "    def __init__(self, momentum):\n",
        "        # Initialize the parameters\n",
        "\n",
        "        self.parameters = [np.random.rand(), np.random.rand()]  # param[0] = gamma, param[1] = beta\n",
        "\n",
        "        self.grads = [0, 0]  # grads[0]=d_gamma,  grads[1]=d_beta\n",
        "\n",
        "        self.hist_momentum = [0, 0]\n",
        "\n",
        "        self.history = [0, 0]  # history[0] = mean,  history[1] = var\n",
        "\n",
        "        self.momentum = momentum\n",
        "\n",
        "    def forward(self, x, mode):\n",
        "        if mode == \"train\":\n",
        "            mu = np.mean(x, axis=1, keepdims=True)\n",
        "            var = np.var(x, axis=1, keepdims=True)\n",
        "\n",
        "            x_norm = (x - mu) / np.sqrt(var + 1e-8)  # add eps for numerical stability\n",
        "            out = self.parameters[0] * x_norm + self.parameters[1]\n",
        "\n",
        "            # keep history by exponentially weighted average\n",
        "            self.history[0] = self.momentum * self.history[0] + (1. - self.momentum) * mu\n",
        "            self.history[1] = self.momentum * self.history[1] + (1. - self.momentum) * var\n",
        "\n",
        "            return out\n",
        "        else:\n",
        "            x_norm = (x - self.history[0]) / np.sqrt(self.history[1] + 1e-8)\n",
        "            out = self.parameters[0] * x_norm + self.parameters[1]\n",
        "            return out\n",
        "\n",
        "    def backward(self, grad, original_input):\n",
        "        x = original_input\n",
        "        mu = np.mean(x, axis=1, keepdims=True)\n",
        "        var = np.var(x, axis=1, keepdims=True)\n",
        "        x_norm = (x - mu) / np.sqrt(var + 1e-8)\n",
        "\n",
        "        self.grads[0] = np.sum(x_norm * grad)\n",
        "        self.grads[1] = np.sum(grad)\n",
        "\n",
        "        # return gradient with respect to the original input to this layer\n",
        "        std_inv = 1 / np.sqrt(var + 1e-8)\n",
        "\n",
        "        dx_norm = grad * self.parameters[0]\n",
        "        dvar = np.sum(dx_norm * (x - mu), axis=1, keepdims=True) * -0.5 * std_inv ** 3\n",
        "        dmu = np.sum(dx_norm * -std_inv, axis=1, keepdims=True) + dvar * np.mean(-2. * (x - mu), axis=1, keepdims=True)\n",
        "\n",
        "        grad_x = (dx_norm * std_inv) + (dvar * 2 * (x - mu) / x.shape[0]) + (dmu / x.shape[0])\n",
        "        return grad_x\n",
        "\n",
        "\n",
        "class Dropout(Layers):\n",
        "    def __init__(self, p):\n",
        "        self.keep_p = p\n",
        "        self.mask = None\n",
        "\n",
        "    def forward(self, x, mode):\n",
        "        if mode == \"train\":\n",
        "            self.mask = np.random.binomial(1, self.keep_p, size=x.shape)\n",
        "            return x * self.mask / self.keep_p\n",
        "        else:\n",
        "            return x\n",
        "\n",
        "    def backward(self, grad, original_input):\n",
        "\n",
        "        # return gradient with respect to the original input to this layer\n",
        "        return grad * self.mask / self.keep_p\n",
        "\n",
        "    def __call__(self, x, mode=\"test\"):\n",
        "        return self.forward(x, mode)"
      ]
    },
    {
      "cell_type": "markdown",
      "metadata": {
        "id": "M70UglqGK47Y"
      },
      "source": [
        "# 4.\n",
        "\n",
        "Implement a fully connected neural network that takes as input some user-defined layers and has both forward and backward passes."
      ]
    },
    {
      "cell_type": "code",
      "execution_count": null,
      "metadata": {
        "id": "8Fo9t2mAK47Z"
      },
      "outputs": [],
      "source": [
        "class FCNN:\n",
        "    def __init__(self, layers):\n",
        "        self.layers = layers\n",
        "        self.original_inputs = []\n",
        "\n",
        "    def forward(self, x, y=None, mode='test'):\n",
        "        # Start by adding the input to the original_inputs array that keeps the original_input to each\n",
        "        # layer in order.\n",
        "        self.original_inputs = [x.copy()]\n",
        "        for i in range(len(self.layers)):\n",
        "            layer = self.layers[i]\n",
        "            # print(\"namosan \", i)\n",
        "            # print(self.original_inputs[i])\n",
        "            if isinstance(layer, BatchNorm) or isinstance(layer, Dropout):\n",
        "                self.original_inputs.append(layer.forward(self.original_inputs[-1], mode))\n",
        "\n",
        "            elif isinstance(layer, SoftMaxCrossLoss):\n",
        "                self.original_inputs.append(layer.forward(self.original_inputs[-1], y))\n",
        "\n",
        "            else:\n",
        "                self.original_inputs.append(layer.forward(self.original_inputs[-1]))\n",
        "\n",
        "        return self.original_inputs[-1]  # y_hat\n",
        "\n",
        "    def backward(self):\n",
        "        # Pop loss value from the cache\n",
        "        k = self.original_inputs.pop()\n",
        "        grad = [1]  # None\n",
        "\n",
        "        network_depth = len(self.original_inputs)\n",
        "        for i in range(network_depth):\n",
        "            original_input = self.original_inputs.pop()\n",
        "            layer = self.layers[-(i + 1)]\n",
        "            grad.append(layer.backward(grad[-1], original_input))\n",
        "\n",
        "        # This should be the grad w.r.t input only\n",
        "        return grad\n",
        "\n",
        "    def __call__(self, x, y=None, mode='test'):\n",
        "        return self.forward(x, y, mode)"
      ]
    },
    {
      "cell_type": "markdown",
      "metadata": {
        "id": "HUoyfHqIK47a"
      },
      "source": [
        "# 5.\n",
        "\n",
        "Implement the following optimizers: a) stochastic gradient descent with momentum; b) The Adam optimizer (https://pytorch.org/docs/stable/generated/torch.optim.Adam.html). These optimizers should take as input a layer and update their parameters according to the gradients stored in the layers.\n",
        "\n",
        "Note that Adam requires you to keep a track of the running means of gradients. A python dictionary to organize this might prove useful."
      ]
    },
    {
      "cell_type": "code",
      "execution_count": null,
      "metadata": {
        "id": "4cAmmSWSK47b"
      },
      "outputs": [],
      "source": [
        "class Optimizer(metaclass=abc.ABCMeta):\n",
        "    @abc.abstractmethod\n",
        "    def step(self, layer):\n",
        "        return\n",
        "\n",
        "\n",
        "class SGD(Optimizer):\n",
        "    def __init__(self, momentum, learning_rate):\n",
        "        self.l = learning_rate\n",
        "        self.momentum = momentum\n",
        "\n",
        "    def step(self, layer):\n",
        "        for i in range(len(layer.parameters)):\n",
        "            layer.hist_momentum[i] = (self.momentum * layer.hist_momentum[i]) + ((1 - self.momentum) * layer.grads[i])\n",
        "\n",
        "            layer.parameters[i] = layer.parameters[i] - self.l * layer.hist_momentum[i]\n",
        "\n",
        "\n",
        "class Adam(Optimizer):\n",
        "    def __init__(self, learning_rate, momentum, rms):\n",
        "        # Initialize the parameters you need.\n",
        "        self.l = learning_rate\n",
        "        self.momentum = momentum\n",
        "        self.r = rms\n",
        "\n",
        "    def step(self, layer):\n",
        "        for i in range(len(layer.parameters)):\n",
        "            layer.hist_momentum[i] = (self.momentum * layer.hist_momentum[i]) + ((1 - self.momentum) * layer.grads[i])\n",
        "            layer.hist_rms[i] = (self.r * layer.hist_rms[i]) + ((1 - self.r) * (layer.grads[i]) ** 2)\n",
        "\n",
        "            norm_m = layer.hist_momentum[i] / (1 - self.momentum)\n",
        "            norm_r = layer.hist_rms[i] / (1 - self.r)\n",
        "\n",
        "            layer.parameters[i] = layer.parameters[i] - self.l * (norm_m / np.sqrt(norm_r + 1e-8))"
      ]
    },
    {
      "cell_type": "markdown",
      "metadata": {
        "id": "-bcLKV1yK47b"
      },
      "source": [
        "# 6.\n",
        "\n",
        "Test out several fully connected architectures on the reduced MNIST dataset provided. Feed the dataset to our network in batches and experiment with the batch size. \n",
        "\n",
        "a) Experiment with the batch size. Does the batch size impact performance? \n",
        "<br>\n",
        "If we choose batch size exactly the same as input data, it will take too much time too run and we have to wait too long for just one single update. on the other hand if we choose batch size equal to 1 the mini-batch turn to a stochastic gradian desent which is not sufficient for such a big dataset. since for each single data we run the forward and backward algorithm. So, I choose 10, 100, 600 and 1000 as my batch size. I observed that, when I choose a small number like 10, because it's only report the error of 10 sample, the loss is much more smaller than batch size 1000. which is kinda obvious. As a result, I choose 1000 as my batch size because with 100 It takes too much time for me to see the results and improvement of my code. and in this way we devide dataset into 60 smaller dataset which is resonable.\n",
        "\n",
        "b) Do you do better with two or three layers? Experiment with the hidden units in each layers.\n",
        "\n",
        "I tried three differnet network:\n",
        "<br>\n",
        "1- two hidden layer (Affine layer + RelU) with (Affine + Softmax).\n",
        "<br>\n",
        "2- three hidden layer: fisrt = Affine+ReLU and second = Affine+softmax\n",
        "<br>\n",
        "3- four hidden layer : first and second = Affine+ReLU and third = Affine + softmax\n",
        "<br>\n",
        "I got the best result in first and second network. but with 3 layer, my values just burst and I have infinite! I guess the reason is that in deep networks after a while because of gradient vanishing, the gradient will be too small and it multiply to our data and prediction. so in the softmax layer when I took the log of such small value which is close to 0 it turns to an infinite number. However, with first network, the learning curve is so smooth and is decreasing over time.\n",
        "<br>\n",
        "I tried the number of hidden unit as follow for each network:\n",
        "<br>\n",
        "1- 784 (input) , 256 (Affine), 10 (softmax)\n",
        "\n",
        "2- 784 - 400 - 100 - 10\n",
        "\n",
        "3- 784 - 600 - 400 - 100 - 10 \n",
        "\n",
        "As I mentioned before, I got the best results in first one.\n",
        "\n",
        "c) Does adding more layers continually improve your results? \n",
        "\n",
        "No, when I increased the number of layer, my network burst and I got inf values.\n",
        "\n",
        "d) Does Dropout help? \n",
        "\n",
        "since I had overflow in the C part, I add a dropout layer to each of my hidden layers, I saw that it helped the network to prevent it from overfitting. And my network resist longer, so for example if I had overflow in epoc 15 previously, with droupout I had overflow in epoch 40.\n",
        "\n",
        "e) What can you say about the difficulty of training as you add layers? \n",
        "\n",
        "As we increase the size of the network, we are making it more powerful, with more parameters. so we are reducing the generalization of the model at the same time parameter fine tuning is more defiicult because we have to be supper carefull abouot all of them.\n",
        "\n",
        "f) Does Batchnorm improve results? \n",
        "\n",
        "\n",
        "when I got depth in to the output and debugging, I saw that when I have inf in my values the probability array in softmax neuron contain two different range of value! one of them was so big ! so big ! the one that we expect to be the asnwers as the class number, and the rest of the values were so small, almost near to zero! so that was the reason of inf numbers. So I add a BatchNorm layer before my softmax, to normilized the input array to softmax, so in this way a balance will happend and number will be more close to each other.\n",
        "\n",
        "g) Try using the Adam optimizer. Do you converge more quickly? Do you get better results?\n",
        "\n",
        "Adam optimizer was incredibly more faster than SGD, but since it make the steps in weight direction bigger than, bias direction (I mean in the cost curve), it reduce the generalization of model."
      ]
    },
    {
      "cell_type": "markdown",
      "source": [
        "2 hidden layer: 784 - 256 - 10\n",
        "<br>\n",
        "affine, relu\n",
        "\n",
        "affine, softmax\n",
        "\n",
        "batch size = 1000"
      ],
      "metadata": {
        "id": "qCBpypOl20Lw"
      }
    },
    {
      "cell_type": "code",
      "execution_count": null,
      "metadata": {
        "id": "DUGxSRwIK47d",
        "colab": {
          "base_uri": "https://localhost:8080/",
          "height": 284
        },
        "outputId": "7347d435-0b3a-4b24-d56e-8ec0bc1a2936"
      },
      "outputs": [
        {
          "output_type": "execute_result",
          "data": {
            "text/plain": [
              "[<matplotlib.lines.Line2D at 0x7f986d937bd0>]"
            ]
          },
          "metadata": {},
          "execution_count": 23
        },
        {
          "output_type": "display_data",
          "data": {
            "image/png": "[encoded data removed]",
            "text/plain": [
              "<Figure size 432x288 with 1 Axes>"
            ]
          },
          "metadata": {
            "needs_background": "light"
          }
        }
      ],
      "source": [
        "# Loading the data\n",
        "\n",
        "train_data = np.load(\"train.npz\")['arr_0']\n",
        "train_targets = np.load(\"train.npz\")['arr_1']\n",
        "\n",
        "test_data = np.load(\"test.npz\")['arr_0']\n",
        "test_targets = np.load(\"test.npz\")['arr_1']\n",
        "\n",
        "# Flatten data\n",
        "train_data = np.transpose(train_data.flatten().reshape(60000, 784))  # faghat avalin affine vorodi bayad transpose beshe\n",
        "test_data = np.transpose(test_data.flatten().reshape(10000, 784))\n",
        "\n",
        "# converting y to one hot encoder matrix\n",
        "train_targets_ohe = np.zeros((len(train_targets), 10))\n",
        "for i in range(len(train_targets)):\n",
        "    train_targets_ohe[i, train_targets[i]] = 1\n",
        "\n",
        "test_targets_ohe = np.zeros((len(test_targets), 10))\n",
        "for i in range(len(test_targets)):\n",
        "    test_targets_ohe[i, test_targets[i]] = 1\n",
        "\n",
        "# Defining hyper parameter\n",
        "batch_size = 1000\n",
        "learningRate = 0.0001\n",
        "momentum = 0.9\n",
        "rms = 0.999\n",
        "epoch = 30\n",
        "\n",
        "# defining network\n",
        "net = FCNN([AffineLayer(784, 256), ReLU(),\n",
        "            AffineLayer(256, 10), SoftMaxCrossLoss()])\n",
        "\n",
        "my_optimizer = SGD(momentum, learningRate)\n",
        "# my_optimizer = Adam(momentum, learningRate, rms)\n",
        "\n",
        "# _____________________training_____________________\n",
        "mse_total = []\n",
        "mse_total_test = []\n",
        "for i in range(epoch):\n",
        "    # shuffle data in each epoch\n",
        "    a = train_data.shape[1]\n",
        "    shuffler = np.random.permutation(train_data.shape[1])\n",
        "    x_shuffled = train_data.T[shuffler].T  # transpose, shuffle row, transpose again\n",
        "    y_shuffled = train_targets_ohe[shuffler]\n",
        "    # x_shuffled = train_data\n",
        "    # y_shuffled = train_targets_ohe\n",
        "\n",
        "    mse_epoc = 0\n",
        "    mse_epoc_test = 0\n",
        "\n",
        "    for j in range(0, 60000, batch_size):\n",
        "        x_batch = x_shuffled[:, j:j + batch_size]  # select range on columns\n",
        "        y_batch = y_shuffled[j:j + batch_size]  # select range on rows\n",
        "\n",
        "        forward = net.forward(x_batch, y_batch, \"train\")  # forward = error\n",
        "        grads = net.backward()\n",
        "        for k in range(len(net.layers)):\n",
        "            if isinstance(net.layers[k], AffineLayer) or isinstance(net.layers[k], BatchNorm):\n",
        "                my_optimizer.step(net.layers[k])  # updating parameters\n",
        "\n",
        "        mse_epoc += forward\n",
        "\n",
        "        # print(\"______________________________________________________\")\n",
        "        # print(forward)\n",
        "        # print(grads)\n",
        "    # test\n",
        "    for j in range(0, 10000, batch_size):\n",
        "        x_batch = test_data[:, j:j + batch_size]\n",
        "        y_batch = test_targets_ohe[j:j + batch_size]  # select range on rows\n",
        "\n",
        "        forward = net.forward(x_batch, y_batch, \"test\")  # forward = error\n",
        "\n",
        "        mse_epoc_test += forward\n",
        "\n",
        "    mse_total.append(mse_epoc / (60000 / batch_size))\n",
        "    mse_total_test.append(mse_epoc_test / (10000 / batch_size))\n",
        "    # print(\"*********\", mse_total[-1])\n",
        "\n",
        "plt.plot(mse_total,'b')\n",
        "plt.plot(mse_total_test,'r')"
      ]
    },
    {
      "cell_type": "markdown",
      "source": [
        "three layer: 784 - 500 - 256 - 10\n",
        "\n",
        "affine, relu\n",
        "\n",
        "affine, relu\n",
        "\n",
        "affine, softmax \n",
        "\n",
        "batch size = 1000"
      ],
      "metadata": {
        "id": "WoOd5Fhm3Kxt"
      }
    },
    {
      "cell_type": "code",
      "source": [
        "# Loading the data\n",
        "\n",
        "train_data = np.load(\"train.npz\")['arr_0']\n",
        "train_targets = np.load(\"train.npz\")['arr_1']\n",
        "\n",
        "test_data = np.load(\"test.npz\")['arr_0']\n",
        "test_targets = np.load(\"test.npz\")['arr_1']\n",
        "\n",
        "# Flatten data\n",
        "train_data = np.transpose(train_data.flatten().reshape(60000, 784))  # faghat avalin affine vorodi bayad transpose beshe\n",
        "test_data = np.transpose(test_data.flatten().reshape(10000, 784))\n",
        "\n",
        "# converting y to one hot encoder matrix\n",
        "train_targets_ohe = np.zeros((len(train_targets), 10))\n",
        "for i in range(len(train_targets)):\n",
        "    train_targets_ohe[i, train_targets[i]] = 1\n",
        "\n",
        "test_targets_ohe = np.zeros((len(test_targets), 10))\n",
        "for i in range(len(test_targets)):\n",
        "    test_targets_ohe[i, test_targets[i]] = 1\n",
        "\n",
        "# Defining hyper parameter\n",
        "batch_size = 1000\n",
        "learningRate = 0.0001\n",
        "momentum = 0.9\n",
        "rms = 0.999\n",
        "epoch = 20\n",
        "\n",
        "# defining network\n",
        "net = FCNN([AffineLayer(784, 500), ReLU(),\n",
        "            AffineLayer(500, 256), ReLU(),\n",
        "            AffineLayer(256, 10), SoftMaxCrossLoss()])\n",
        "\n",
        "my_optimizer = SGD(momentum, learningRate)\n",
        "# my_optimizer = Adam(momentum, learningRate, rms)\n",
        "\n",
        "# _____________________training_____________________\n",
        "mse_total = []\n",
        "mse_total_test = []\n",
        "for i in range(epoch):\n",
        "    # shuffle data in each epoch\n",
        "    a = train_data.shape[1]\n",
        "    shuffler = np.random.permutation(train_data.shape[1])\n",
        "    x_shuffled = train_data.T[shuffler].T  # transpose, shuffle row, transpose again\n",
        "    y_shuffled = train_targets_ohe[shuffler]\n",
        "    # x_shuffled = train_data\n",
        "    # y_shuffled = train_targets_ohe\n",
        "\n",
        "    mse_epoc = 0\n",
        "    mse_epoc_test = 0\n",
        "\n",
        "    # train\n",
        "    for j in range(0, 60000, batch_size):\n",
        "        x_batch = x_shuffled[:, j:j + batch_size]  # select range on columns\n",
        "        y_batch = y_shuffled[j:j + batch_size]  # select range on rows\n",
        "\n",
        "        forward = net.forward(x_batch, y_batch, \"train\")  # forward = error\n",
        "        grads = net.backward()\n",
        "        for k in range(len(net.layers)):\n",
        "            if isinstance(net.layers[k], AffineLayer) or isinstance(net.layers[k], BatchNorm):\n",
        "                my_optimizer.step(net.layers[k])  # updating parameters\n",
        "\n",
        "        mse_epoc += forward\n",
        "\n",
        "        # print(\"______________________________________________________\")\n",
        "        # print(forward)\n",
        "        # print(grads)\n",
        "    # test\n",
        "    for j in range(0, 10000, batch_size):\n",
        "        x_batch = test_data[:, j:j + batch_size]\n",
        "        y_batch = test_targets_ohe[j:j + batch_size]  # select range on rows\n",
        "\n",
        "        forward = net.forward(x_batch, y_batch, \"test\")  # forward = error\n",
        "\n",
        "        mse_epoc_test += forward\n",
        "\n",
        "    mse_total.append(mse_epoc / (60000 / batch_size))\n",
        "    mse_total_test.append(mse_epoc_test / (10000 / batch_size))\n",
        "    # print(\"*********\", mse_total[-1])\n",
        "\n",
        "plt.plot(mse_total,'b')\n",
        "plt.plot(mse_total_test,'r')"
      ],
      "metadata": {
        "colab": {
          "base_uri": "https://localhost:8080/",
          "height": 283
        },
        "id": "1ssNRzmysXWX",
        "outputId": "c419a2c6-dca1-49db-cdff-b858c389a949"
      },
      "execution_count": null,
      "outputs": [
        {
          "output_type": "execute_result",
          "data": {
            "text/plain": [
              "[<matplotlib.lines.Line2D at 0x7f986d841910>]"
            ]
          },
          "metadata": {},
          "execution_count": 24
        },
        {
          "output_type": "display_data",
          "data": {
            "image/png": "[encoded data removed]",
            "text/plain": [
              "<Figure size 432x288 with 1 Axes>"
            ]
          },
          "metadata": {
            "needs_background": "light"
          }
        }
      ]
    },
    {
      "cell_type": "markdown",
      "source": [
        "same two layer \n",
        "\n",
        "changing batch size from 1000 to 600\n",
        "\n",
        "adding BatchNorm layer before softmax. without it I had inf values."
      ],
      "metadata": {
        "id": "P-jNk6kt3x0m"
      }
    },
    {
      "cell_type": "code",
      "source": [
        "# Loading the data\n",
        "\n",
        "train_data = np.load(\"train.npz\")['arr_0']\n",
        "train_targets = np.load(\"train.npz\")['arr_1']\n",
        "\n",
        "test_data = np.load(\"test.npz\")['arr_0']\n",
        "test_targets = np.load(\"test.npz\")['arr_1']\n",
        "\n",
        "# Flatten data\n",
        "train_data = np.transpose(train_data.flatten().reshape(60000, 784))  # faghat avalin affine vorodi bayad transpose beshe\n",
        "test_data = np.transpose(test_data.flatten().reshape(10000, 784))\n",
        "\n",
        "# converting y to one hot encoder matrix\n",
        "train_targets_ohe = np.zeros((len(train_targets), 10))\n",
        "for i in range(len(train_targets)):\n",
        "    train_targets_ohe[i, train_targets[i]] = 1\n",
        "\n",
        "test_targets_ohe = np.zeros((len(test_targets), 10))\n",
        "for i in range(len(test_targets)):\n",
        "    test_targets_ohe[i, test_targets[i]] = 1\n",
        "\n",
        "# Defining hyper parameter\n",
        "batch_size = 600\n",
        "learningRate = 0.0001\n",
        "momentum = 0.9\n",
        "rms = 0.999\n",
        "epoch = 20\n",
        "\n",
        "# defining network\n",
        "net = FCNN([AffineLayer(784, 256), ReLU(),\n",
        "            AffineLayer(256, 10), BatchNorm(0.1),SoftMaxCrossLoss()])\n",
        "\n",
        "my_optimizer = SGD(momentum, learningRate)\n",
        "# my_optimizer = Adam(momentum, learningRate, rms)\n",
        "\n",
        "# _____________________training_____________________\n",
        "mse_total = []\n",
        "mse_total_test = []\n",
        "for i in range(epoch):\n",
        "    # shuffle data in each epoch\n",
        "    a = train_data.shape[1]\n",
        "    shuffler = np.random.permutation(train_data.shape[1])\n",
        "    x_shuffled = train_data.T[shuffler].T  # transpose, shuffle row, transpose again\n",
        "    y_shuffled = train_targets_ohe[shuffler]\n",
        "    # x_shuffled = train_data\n",
        "    # y_shuffled = train_targets_ohe\n",
        "\n",
        "    mse_epoc = 0\n",
        "    mse_epoc_test = 0\n",
        "\n",
        "    for j in range(0, 60000, batch_size):\n",
        "        x_batch = x_shuffled[:, j:j + batch_size]  # select range on columns\n",
        "        y_batch = y_shuffled[j:j + batch_size]  # select range on rows\n",
        "\n",
        "        forward = net.forward(x_batch, y_batch, \"train\")  # forward = error\n",
        "        grads = net.backward()\n",
        "        for k in range(len(net.layers)):\n",
        "            if isinstance(net.layers[k], AffineLayer) or isinstance(net.layers[k], BatchNorm):\n",
        "                my_optimizer.step(net.layers[k])  # updating parameters\n",
        "\n",
        "        mse_epoc += forward\n",
        "\n",
        "        # print(\"______________________________________________________\")\n",
        "        # print(forward)\n",
        "        # print(grads)\n",
        "    # test\n",
        "    for j in range(0, 10000, batch_size):\n",
        "        x_batch = test_data[:, j:j + batch_size]\n",
        "        y_batch = test_targets_ohe[j:j + batch_size]  # select range on rows\n",
        "\n",
        "        forward = net.forward(x_batch, y_batch, \"test\")  # forward = error\n",
        "\n",
        "        mse_epoc_test += forward\n",
        "\n",
        "    mse_total.append(mse_epoc / (60000 / batch_size))\n",
        "    mse_total_test.append(mse_epoc_test / (10000 / batch_size))\n",
        "    # print(\"*********\", mse_total[-1])\n",
        "\n",
        "plt.plot(mse_total,'b')\n",
        "plt.plot(mse_total_test,'r')"
      ],
      "metadata": {
        "colab": {
          "base_uri": "https://localhost:8080/",
          "height": 283
        },
        "id": "L_DHjx3N0PNz",
        "outputId": "bb2b497a-e306-47db-d4b1-c42595abe145"
      },
      "execution_count": null,
      "outputs": [
        {
          "output_type": "execute_result",
          "data": {
            "text/plain": [
              "[<matplotlib.lines.Line2D at 0x7f986d75f750>]"
            ]
          },
          "metadata": {},
          "execution_count": 27
        },
        {
          "output_type": "display_data",
          "data": {
            "image/png": "[encoded data removed]",
            "text/plain": [
              "<Figure size 432x288 with 1 Axes>"
            ]
          },
          "metadata": {
            "needs_background": "light"
          }
        }
      ]
    },
    {
      "cell_type": "markdown",
      "source": [
        "In below: I added a Dropout layer to my network with keep probability of 0.8.\n",
        "\n",
        "As you can see it is more smoother than previous one."
      ],
      "metadata": {
        "id": "hbwoPwDa6iIn"
      }
    },
    {
      "cell_type": "code",
      "source": [
        "# Loading the data\n",
        "\n",
        "train_data = np.load(\"train.npz\")['arr_0']\n",
        "train_targets = np.load(\"train.npz\")['arr_1']\n",
        "\n",
        "test_data = np.load(\"test.npz\")['arr_0']\n",
        "test_targets = np.load(\"test.npz\")['arr_1']\n",
        "\n",
        "# Flatten data\n",
        "train_data = np.transpose(train_data.flatten().reshape(60000, 784))  # faghat avalin affine vorodi bayad transpose beshe\n",
        "test_data = np.transpose(test_data.flatten().reshape(10000, 784))\n",
        "\n",
        "# converting y to one hot encoder matrix\n",
        "train_targets_ohe = np.zeros((len(train_targets), 10))\n",
        "for i in range(len(train_targets)):\n",
        "    train_targets_ohe[i, train_targets[i]] = 1\n",
        "\n",
        "test_targets_ohe = np.zeros((len(test_targets), 10))\n",
        "for i in range(len(test_targets)):\n",
        "    test_targets_ohe[i, test_targets[i]] = 1\n",
        "\n",
        "# Defining hyper parameter\n",
        "batch_size = 600\n",
        "learningRate = 0.0001\n",
        "momentum = 0.9\n",
        "rms = 0.999\n",
        "epoch = 20\n",
        "\n",
        "# defining network\n",
        "net = FCNN([AffineLayer(784, 256), ReLU(), Dropout(0.8),\n",
        "            AffineLayer(256, 10), BatchNorm(0.1),SoftMaxCrossLoss()])\n",
        "\n",
        "my_optimizer = SGD(momentum, learningRate)\n",
        "# my_optimizer = Adam(momentum, learningRate, rms)\n",
        "\n",
        "# _____________________training_____________________\n",
        "mse_total = []\n",
        "mse_total_test = []\n",
        "for i in range(epoch):\n",
        "    # shuffle data in each epoch\n",
        "    a = train_data.shape[1]\n",
        "    shuffler = np.random.permutation(train_data.shape[1])\n",
        "    x_shuffled = train_data.T[shuffler].T  # transpose, shuffle row, transpose again\n",
        "    y_shuffled = train_targets_ohe[shuffler]\n",
        "    # x_shuffled = train_data\n",
        "    # y_shuffled = train_targets_ohe\n",
        "\n",
        "    mse_epoc = 0\n",
        "    mse_epoc_test = 0\n",
        "\n",
        "    for j in range(0, 60000, batch_size):\n",
        "        x_batch = x_shuffled[:, j:j + batch_size]  # select range on columns\n",
        "        y_batch = y_shuffled[j:j + batch_size]  # select range on rows\n",
        "\n",
        "        forward = net.forward(x_batch, y_batch, \"train\")  # forward = error\n",
        "        grads = net.backward()\n",
        "        for k in range(len(net.layers)):\n",
        "            if isinstance(net.layers[k], AffineLayer) or isinstance(net.layers[k], BatchNorm):\n",
        "                my_optimizer.step(net.layers[k])  # updating parameters\n",
        "\n",
        "        mse_epoc += forward\n",
        "\n",
        "        # print(\"______________________________________________________\")\n",
        "        # print(forward)\n",
        "        # print(grads)\n",
        "    # test\n",
        "    for j in range(0, 10000, batch_size):\n",
        "        x_batch = test_data[:, j:j + batch_size]\n",
        "        y_batch = test_targets_ohe[j:j + batch_size]  # select range on rows\n",
        "\n",
        "        forward = net.forward(x_batch, y_batch, \"test\")  # forward = error\n",
        "\n",
        "        mse_epoc_test += forward\n",
        "\n",
        "    mse_total.append(mse_epoc / (60000 / batch_size))\n",
        "    mse_total_test.append(mse_epoc_test / (10000 / batch_size))\n",
        "    # print(\"*********\", mse_total[-1])\n",
        "\n",
        "plt.plot(mse_total,'b')\n",
        "plt.plot(mse_total_test,'r')"
      ],
      "metadata": {
        "colab": {
          "base_uri": "https://localhost:8080/",
          "height": 283
        },
        "id": "Uj3LQ8USzTeL",
        "outputId": "1269adf3-fc2b-45bc-fefb-a06dddd445d3"
      },
      "execution_count": null,
      "outputs": [
        {
          "output_type": "execute_result",
          "data": {
            "text/plain": [
              "[<matplotlib.lines.Line2D at 0x7f986d618d10>]"
            ]
          },
          "metadata": {},
          "execution_count": 29
        },
        {
          "output_type": "display_data",
          "data": {
            "image/png": "[encoded data removed]",
            "text/plain": [
              "<Figure size 432x288 with 1 Axes>"
            ]
          },
          "metadata": {
            "needs_background": "light"
          }
        }
      ]
    }
  ],
  "metadata": {
    "colab": {
      "collapsed_sections": [],
      "name": "classification-nn-scratch.ipynb",
      "provenance": []
    },
    "kernelspec": {
      "display_name": "Python 3",
      "language": "python",
      "name": "python3"
    },
    "language_info": {
      "codemirror_mode": {
        "name": "ipython",
        "version": 3
      },
      "file_extension": ".py",
      "mimetype": "text/x-python",
      "name": "python",
      "nbconvert_exporter": "python",
      "pygments_lexer": "ipython3",
      "version": "3.7.3"
    }
  },
  "nbformat": 4,
  "nbformat_minor": 0
}